{
 "cells": [
  {
   "cell_type": "code",
   "execution_count": 29,
   "metadata": {},
   "outputs": [
    {
     "name": "stdout",
     "output_type": "stream",
     "text": [
      "CUDA Available: True\n",
      "Using device: cuda\n"
     ]
    }
   ],
   "source": [
    "import torch\n",
    "import numpy as np\n",
    "\n",
    "print(\"CUDA Available:\", torch.cuda.is_available())\n",
    "\n",
    "device = torch.device(\"cuda\" if torch.cuda.is_available() else \"cpu\")\n",
    "print(\"Using device:\", device)\n"
   ]
  },
  {
   "cell_type": "code",
   "execution_count": 30,
   "metadata": {},
   "outputs": [
    {
     "name": "stdout",
     "output_type": "stream",
     "text": [
      "13 17.12.2018   \n",
      "2 EN\n",
      "38 Official Journal of the European Union\n",
      "8 L 321/36\n",
      "93 \n",
      "            DIRECTIVE (EU) 2018/1972 OF THE EUROPEAN PARLIAMENT AND OF THE COUNCIL\n",
      "         \n",
      "29 of 11 December 2018\n",
      "         \n",
      "56 establishing the European Electronic Communications Code\n",
      "8 (Recast)\n",
      "25 (Text with EEA relevance)\n",
      "62 THE EUROPEAN PARLIAMENT AND THE COUNCIL OF THE EUROPEAN UNION,\n"
     ]
    }
   ],
   "source": [
    "from bs4 import BeautifulSoup\n",
    "import requests\n",
    "\n",
    "url = \"https://eur-lex.europa.eu/legal-content/EN/TXT/HTML/?uri=CELEX:32018L1972\"\n",
    "response = requests.get(url)\n",
    "soup = BeautifulSoup(response.text, 'html.parser')\n",
    "sections = soup.find_all(['p'])\n",
    "\n",
    "i = 0\n",
    "lim = 10\n",
    "for section in sections:\n",
    "    print(f\"{len(section.text)} {section.text}\")\n",
    "    i+=1\n",
    "    if i >= lim:\n",
    "        break"
   ]
  },
  {
   "cell_type": "code",
   "execution_count": 31,
   "metadata": {},
   "outputs": [],
   "source": [
    "filtered_sections = [section for section in sections if len(section.text.strip()) > 120]"
   ]
  },
  {
   "cell_type": "code",
   "execution_count": 32,
   "metadata": {},
   "outputs": [
    {
     "data": {
      "text/plain": [
       "['Directives 2002/19/EC (4) 2002/20/EC (5) 2002/21/EC (6) and 2002/22/EC (7) of the European Parliament and of the Council have been substantially amended Since further amendments are to be made those Directives should be recast in the interests of clarity',\n",
       " 'The functioning of the five Directives which are part of the existing regulatory framework for electronic communications networks and services namely Directives 2002/19/EC 2002/20/EC 2002/21/EC and 2002/22/EC and Directive 2002/58/EC of the European Parliament and of the Council (8) is subject to periodic review by the Commission with a view in particular to determining the need for modification in light of technological and market developments',\n",
       " 'In its communication or 6 May 2015 setting out a Digital Single Market Strategy for Europe the Commission stated that its review of the telecommunications framework would focus on measures that aim to provide incentives for investment in high-speed broadband networks bring a more consistent internal market approach to radio spectrum policy and management deliver conditions for a true internal market by tackling regulatory fragmentation ensure effective protection of consumers a level playing field for all market players and consistent application of the rules as well as provide a more effective regulatory institutional framework',\n",
       " 'This Directive is part of a ‘Regulatory Fitness’ (REFIT) exercise the scope of which includes four Directives namely 2002/19/EC 2002/20/EC 2002/21/EC and 2002/22/EC and Regulation (EC) No 1211/2009 of the European Parliament and of the Council (9) Each of those Directives contains measures applicable to providers of electronic communications networks and of electronic communications services consistently with the regulatory history of the sector under which undertakings were vertically integrated namely active in both the provision of networks and of services The review offers an occasion to recast the four Directives in order to simplify the current structure with a view to reinforcing its consistency and accessibility in relation to the REFIT objective It also offers the possibility to adapt the structure to the new market reality where the provision of communications services is no longer necessarily bundled to the provision of a network As provided in the Interinstitutional Agreement of 28 November 2001 on a more structured use of the recasting technique for legal acts (10) recasting consists in the adoption of a new legal act which incorporates in a single text both the substantive amendments which it makes to an earlier act and the unchanged provisions of that act The proposal for recasting deals with the substantive amendments which it makes to an earlier act and on a secondary level includes the codification of the unchanged provisions of the earlier act with those substantive amendments',\n",
       " 'This Directive creates a legal framework to ensure freedom to provide electronic communications networks and services subject only to the conditions laid down in this Directive and to any restrictions in accordance with Article 52(1) of the Treaty on the Functioning of the European Union (TFEU) in particular measures regarding public policy public security and public health and consistent with Article 52(1) of the Charter of Fundamental Rights of the European Union (the ‘Charter’)',\n",
       " 'This Directive is without prejudice to the possibility for each Member State to take the necessary measures to ensure the protection of its essential security interests to safeguard public policy and public security and to permit the investigation detection and prosecution of criminal offences taking into account that any limitation to the exercise of the rights and freedoms recognised by the Charter in particular in Articles 7 8 and 11 thereof such as limitations regarding the processing of data are to be provided for by law respect the essence of those rights and freedoms and be subject to the principle of proportionality in accordance with Article 52(1) of the Charter',\n",
       " 'The convergence of the telecommunications media and information technology sectors means that all electronic communications networks and services should be covered to the extent possible by a single European electronic communications code established by means of a single Directive with the exception of matters better dealt with through directly applicable rules established by means of regulations It is necessary to separate the regulation of electronic communications networks and services from the regulation of content Therefore this Directive does not cover the content of services delivered over electronic communications networks using electronic communications services such as broadcasting content financial services and certain information society services and is without prejudice to measures taken at Union or national level in respect of such services in accordance with Union law in order to promote cultural and linguistic diversity and to ensure the defence of media pluralism The content of television programmes is covered by Directive 2010/13/EU of the European Parliament and of the Council (11) The regulation of audiovisual policy and content aims at achieving general interest objectives such as freedom of expression media pluralism impartiality cultural and linguistic diversity social inclusion consumer protection and the protection of minors The separation between the regulation of electronic communications and the regulation of content does not affect the taking into account of the links existing between them in particular in order to guarantee media pluralism cultural diversity and consumer protection Within the limits of their competences competent authorities should contribute to ensuring the implementation of policies aiming to promote those objectives',\n",
       " 'This Directive does not affect the application to radio equipment of Directive 2014/53/EU of the European Parliament and of the Council (12) but does cover car radio and consumer radio receivers and consumer digital television equipment',\n",
       " 'In order to allow national regulatory and other competent authorities to meet the objectives set out in this Directive in particular concerning end-to-end interoperability the scope of the Directive should cover certain aspects of radio equipment as defined in Directive 2014/53/EU and consumer equipment used for digital television in order to facilitate access for end-users with disabilities It is important for national regulatory and other competent authorities to encourage network operators and equipment manufacturers to cooperate in order to facilitate access by end-users with disabilities to electronic communications services The non-exclusive use of radio spectrum for the self-use of radio terminal equipment although not related to an economic activity should also be the subject of this Directive in order to ensure a coordinated approach with regard to their authorisation regime',\n",
       " 'Certain electronic communications services under this Directive could also fall within the scope of the definition of ‘information society service’ set out in Article 1 of Directive (EU) 2015/1535 of the European Parliament and of the Council (13) The provisions of that Directive that govern information society services apply to those electronic communications services to the extent that this Directive or other Union legal acts do not contain more specific provisions applicable to electronic communications services However electronic communications services such as voice telephony messaging services and electronic mail services are covered by this Directive The same undertaking for example an internet service provider can offer both an electronic communications service such as access to the internet and services not covered by this Directive such as the provision of web-based and not communications-related content']"
      ]
     },
     "execution_count": 32,
     "metadata": {},
     "output_type": "execute_result"
    }
   ],
   "source": [
    "filtered_cleaned_sections = [section.text.strip().replace('\\xa0', ' ').replace('.', \"\").replace(';', \"\").replace(',', \"\") for section in filtered_sections]\n",
    "filtered_cleaned_sections[0:10]"
   ]
  },
  {
   "cell_type": "code",
   "execution_count": 33,
   "metadata": {},
   "outputs": [],
   "source": [
    "from sentence_transformers import SentenceTransformer, util\n",
    "from transformers import BertForQuestionAnswering, BertTokenizer, pipeline\n",
    "\n",
    "def fetch_most_relevant_paragraph(question, data, embedder = None):\n",
    "    if embedder == None:\n",
    "        embedder = SentenceTransformer('all-MiniLM-L6-v2')\n",
    "\n",
    "    if type(question) == str and type(data) == list:\n",
    "        data_embeddings = embedder.encode(data)\n",
    "        question_embedding = embedder.encode(question)\n",
    "        cos_scores = util.pytorch_cos_sim(question_embedding,data_embeddings)\n",
    "\n",
    "        return data[cos_scores.argmax()]\n",
    "\n",
    "    elif type(question) == str:\n",
    "        print(\"Please enter knowledgebase as a list of strings\")\n",
    "    elif type(data) == list:\n",
    "        print(\"Please enter question as a string\")\n",
    "    else:\n",
    "        print(\"Unknown error\")\n",
    "        \n",
    "def ask_question_to_paragraph(question, data, model = None, tokenizer = None):\n",
    "    if model == None:\n",
    "        model = BertForQuestionAnswering.from_pretrained(\"nlpaueb/legal-bert-base-uncased\")\n",
    "    if tokenizer == None:\n",
    "        tokenizer = BertTokenizer.from_pretrained(\"nlpaueb/legal-bert-base-uncased\")\n",
    "    ###\n",
    "    # path = \"./legal-bert-finetuned\"\n",
    "    # model = BertForQuestionAnswering.from_pretrained(path)\n",
    "    # tokenizer = BertTokenizer.from_pretrained(path)\n",
    "    ###\n",
    "\n",
    "    inputs = tokenizer(question, data, return_tensors=\"pt\", truncation=True, padding=True)\n",
    "    \n",
    "    with torch.no_grad():\n",
    "        outputs = model(**inputs)\n",
    "        start_logits, end_logits = outputs.start_logits, outputs.end_logits\n",
    "\n",
    "    answer = tokenizer.convert_tokens_to_string(tokenizer.convert_ids_to_tokens(inputs.input_ids[0][torch.argmax(start_logits):torch.argmax(end_logits)+1]))\n",
    "    return answer\n",
    "\n",
    "def refine_answer(answer,summarizer=None):\n",
    "    if summarizer == None:\n",
    "        summarizer = pipeline(\"summarization\", model=\"facebook/bart-large-cnn\", device=0)\n",
    "    summary = summarizer(answer, max_length=500, min_length=1, do_sample=False)\n",
    "    return summary[0]['summary_text']"
   ]
  },
  {
   "cell_type": "code",
   "execution_count": 34,
   "metadata": {},
   "outputs": [],
   "source": [
    "question1 = \"How does the Directive redefine electronic communications services to address evolving technologies and ensure end-users rights are protected when using functionally equivalent online services?\"\n",
    "question2 = \"How often shall commission review the functioning of this Directive and report to the European Parliament and to the Council?\"\n",
    "\n",
    "current_question = question2"
   ]
  },
  {
   "cell_type": "code",
   "execution_count": 35,
   "metadata": {},
   "outputs": [],
   "source": [
    "def ask_question(current_question,filtered_cleaned_sections):\n",
    "    \n",
    "    path = \"./legal-bert-finetuned\"\n",
    "    try:\n",
    "        model = BertForQuestionAnswering.from_pretrained(path)\n",
    "        tokenizer = BertTokenizer.from_pretrained(path)\n",
    "    except:\n",
    "        model= None\n",
    "        tokenizer = None\n",
    "\n",
    "    paragraph = fetch_most_relevant_paragraph(current_question,filtered_cleaned_sections)\n",
    "    answer = ask_question_to_paragraph(current_question,paragraph,model=model,tokenizer=tokenizer)\n",
    "    refined_answer = refine_answer(answer)\n",
    "    print(f\"\\nQuestion: {current_question}\\nResponse: {refined_answer}\")\n",
    "    return refined_answer"
   ]
  },
  {
   "cell_type": "code",
   "execution_count": 36,
   "metadata": {},
   "outputs": [
    {
     "name": "stderr",
     "output_type": "stream",
     "text": [
      "Your max_length is set to 500, but your input_length is only 34. Since this is a summarization task, where outputs shorter than the input are typically wanted, you might consider decreasing max_length manually, e.g. summarizer('...', max_length=17)\n"
     ]
    },
    {
     "name": "stdout",
     "output_type": "stream",
     "text": [
      "\n",
      "Question: How often shall commission review the functioning of this Directive and report to the European Parliament and to the Council?\n",
      "Response: The commission shall review the functioning of this directive every five years thereafter. The commission shall report to the european parliament and to the council. The directive must be in place by 21 december 2025.\n"
     ]
    }
   ],
   "source": [
    "chatbot_answer = ask_question(current_question, filtered_cleaned_sections)"
   ]
  },
  {
   "cell_type": "code",
   "execution_count": 37,
   "metadata": {},
   "outputs": [
    {
     "name": "stderr",
     "output_type": "stream",
     "text": [
      "Your max_length is set to 500, but your input_length is only 34. Since this is a summarization task, where outputs shorter than the input are typically wanted, you might consider decreasing max_length manually, e.g. summarizer('...', max_length=17)\n"
     ]
    },
    {
     "name": "stdout",
     "output_type": "stream",
     "text": [
      "\n",
      "Question: How often shall commission review the functioning of this Directive and report to the European Parliament and to the Council?\n",
      "Response: The commission shall review the functioning of this directive every five years thereafter. The commission shall report to the european parliament and to the council. The directive must be in place by 21 december 2025.\n"
     ]
    }
   ],
   "source": [
    "user_input = None\n",
    "while(True):\n",
    "    user_input = input(\"enter \\\"exit\\\" if you wish to exit or enter a question\")\n",
    "    if user_input.lower() == \"exit\":\n",
    "        break\n",
    "    ask_question(user_input, filtered_cleaned_sections)"
   ]
  }
 ],
 "metadata": {
  "kernelspec": {
   "display_name": "AI",
   "language": "python",
   "name": "python3"
  },
  "language_info": {
   "codemirror_mode": {
    "name": "ipython",
    "version": 3
   },
   "file_extension": ".py",
   "mimetype": "text/x-python",
   "name": "python",
   "nbconvert_exporter": "python",
   "pygments_lexer": "ipython3",
   "version": "3.11.10"
  }
 },
 "nbformat": 4,
 "nbformat_minor": 2
}
